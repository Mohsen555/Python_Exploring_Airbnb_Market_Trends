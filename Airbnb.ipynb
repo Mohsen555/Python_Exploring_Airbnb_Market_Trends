{
 "cells": [
  {
   "cell_type": "markdown",
   "id": "509d0e4b-205b-4c9e-bbe3-88a30b4052d2",
   "metadata": {},
   "source": [
    "# __Exploring Airbnb Market Trends in NYC__"
   ]
  },
  {
   "cell_type": "markdown",
   "id": "b9fd43bc-b439-46e7-9b78-096b7f381320",
   "metadata": {},
   "source": [
    "<h2 style='text-align: left;'> Project Description </h2>\n",
    "<p style=\"font-size: 16px; text-align: left;\"> Welcome to New York City, In this project, we will take a closer look at the New York Airbnb market by combining data from multiple file types like .csv, .tsv, and .xlsx. </p>"
   ]
  },
  {
   "cell_type": "markdown",
   "id": "941da30c-3e20-4b67-9eaa-9a0b5edca926",
   "metadata": {},
   "source": [
    "<center><img src='nyc.jpg' alt=\"Your Image\"></center>"
   ]
  },
  {
   "cell_type": "markdown",
   "id": "c747d469-ee97-4b95-880f-feefd5456042",
   "metadata": {
    "id": "bA5ajAmk7XH6"
   },
   "source": [
    "**CSV**, **TSV**, and **Excel** files containing data on 2019 Airbnb listings\n",
    "\n",
    "**airbnb_price.csv**\n",
    "This is a CSV file containing data on Airbnb listing prices and locations.\n",
    "- **`listing_id`**: unique identifier of listing\n",
    "- **`price`**: nightly listing price in USD\n",
    "- **`nbhood_full`**: name of borough and neighborhood where listing is located\n",
    "\n",
    "**airbnb_room_type.xlsx**\n",
    "This is an Excel file containing data on Airbnb listing descriptions and room types.\n",
    "- **`listing_id`**: unique identifier of listing\n",
    "- **`description`**: listing description\n",
    "- **`room_type`**: Airbnb has three types of rooms: shared rooms, private rooms, and entire homes/apartments\n",
    "\n",
    "**airbnb_last_review.tsv**\n",
    "This is a TSV file containing data on Airbnb host names and review dates.\n",
    "- **`listing_id`**: unique identifier of listing\n",
    "- **`host_name`**: name of listing host\n",
    "- **`last_review`**: date when the listing was last reviewed"
   ]
  },
  {
   "cell_type": "code",
   "execution_count": 1,
   "id": "1fdc5784-479e-46cb-b05b-68439dcc94a7",
   "metadata": {
    "executionTime": 190,
    "lastSuccessfullyExecutedCode": "# We've loaded your first package for you! You can add as many cells as you need.\nimport numpy as np\n"
   },
   "outputs": [],
   "source": [
    "# Import required libraries\n",
    "\n",
    "import pandas as pd\n",
    "import numpy as np\n",
    "import matplotlib.pyplot as plt\n",
    "import seaborn as sns"
   ]
  },
  {
   "cell_type": "code",
   "execution_count": 2,
   "id": "47f1316e-d02c-47a8-9ad2-34d5cf639c87",
   "metadata": {},
   "outputs": [],
   "source": [
    "# Using pandas methods to read files\n",
    "\n",
    "airbnb_price = pd.read_csv(\"airbnb_price.csv\")\n",
    "airbnb_room_type = pd.read_excel(\"airbnb_room_type.xlsx\")\n",
    "airbnb_last_review = pd.read_csv(\"airbnb_last_review.tsv\", delimiter='\\t')"
   ]
  },
  {
   "cell_type": "code",
   "execution_count": 3,
   "id": "dd5b3abe-5b8b-4490-8345-df25e3ba3ad3",
   "metadata": {},
   "outputs": [
    {
     "name": "stdout",
     "output_type": "stream",
     "text": [
      "   listing_id        price                nbhood_full\n",
      "0        2595  225 dollars         Manhattan, Midtown\n",
      "1        3831   89 dollars     Brooklyn, Clinton Hill\n",
      "2        5099  200 dollars     Manhattan, Murray Hill\n",
      "3        5178   79 dollars  Manhattan, Hell's Kitchen\n",
      "4        5238  150 dollars       Manhattan, Chinatown \n",
      "\n",
      "   listing_id                                description        room_type\n",
      "0        2595                      Skylit Midtown Castle  Entire home/apt\n",
      "1        3831            Cozy Entire Floor of Brownstone  Entire home/apt\n",
      "2        5099  Large Cozy 1 BR Apartment In Midtown East  Entire home/apt\n",
      "3        5178            Large Furnished Room Near B'way     private room\n",
      "4        5238         Cute & Cozy Lower East Side 1 bdrm  Entire home/apt \n",
      "\n",
      "   listing_id    host_name   last_review\n",
      "0        2595     Jennifer   May 21 2019\n",
      "1        3831  LisaRoxanne  July 05 2019\n",
      "2        5099        Chris  June 22 2019\n",
      "3        5178     Shunichi  June 24 2019\n",
      "4        5238          Ben  June 09 2019\n"
     ]
    }
   ],
   "source": [
    "# Looking at the data\n",
    "\n",
    "print(airbnb_price.head(), \"\\n\")\n",
    "print(airbnb_room_type.head(), \"\\n\")\n",
    "print(airbnb_last_review.head())"
   ]
  },
  {
   "cell_type": "code",
   "execution_count": 4,
   "id": "28bd1535-a4bb-4d83-9de7-77afabdd6a15",
   "metadata": {},
   "outputs": [
    {
     "data": {
      "text/html": [
       "<div>\n",
       "<style scoped>\n",
       "    .dataframe tbody tr th:only-of-type {\n",
       "        vertical-align: middle;\n",
       "    }\n",
       "\n",
       "    .dataframe tbody tr th {\n",
       "        vertical-align: top;\n",
       "    }\n",
       "\n",
       "    .dataframe thead th {\n",
       "        text-align: right;\n",
       "    }\n",
       "</style>\n",
       "<table border=\"1\" class=\"dataframe\">\n",
       "  <thead>\n",
       "    <tr style=\"text-align: right;\">\n",
       "      <th></th>\n",
       "      <th>listing_id</th>\n",
       "      <th>price</th>\n",
       "      <th>nbhood_full</th>\n",
       "      <th>description</th>\n",
       "      <th>room_type</th>\n",
       "      <th>host_name</th>\n",
       "      <th>last_review</th>\n",
       "    </tr>\n",
       "  </thead>\n",
       "  <tbody>\n",
       "    <tr>\n",
       "      <th>0</th>\n",
       "      <td>2595</td>\n",
       "      <td>225 dollars</td>\n",
       "      <td>Manhattan, Midtown</td>\n",
       "      <td>Skylit Midtown Castle</td>\n",
       "      <td>Entire home/apt</td>\n",
       "      <td>Jennifer</td>\n",
       "      <td>May 21 2019</td>\n",
       "    </tr>\n",
       "    <tr>\n",
       "      <th>1</th>\n",
       "      <td>3831</td>\n",
       "      <td>89 dollars</td>\n",
       "      <td>Brooklyn, Clinton Hill</td>\n",
       "      <td>Cozy Entire Floor of Brownstone</td>\n",
       "      <td>Entire home/apt</td>\n",
       "      <td>LisaRoxanne</td>\n",
       "      <td>July 05 2019</td>\n",
       "    </tr>\n",
       "    <tr>\n",
       "      <th>2</th>\n",
       "      <td>5099</td>\n",
       "      <td>200 dollars</td>\n",
       "      <td>Manhattan, Murray Hill</td>\n",
       "      <td>Large Cozy 1 BR Apartment In Midtown East</td>\n",
       "      <td>Entire home/apt</td>\n",
       "      <td>Chris</td>\n",
       "      <td>June 22 2019</td>\n",
       "    </tr>\n",
       "    <tr>\n",
       "      <th>3</th>\n",
       "      <td>5178</td>\n",
       "      <td>79 dollars</td>\n",
       "      <td>Manhattan, Hell's Kitchen</td>\n",
       "      <td>Large Furnished Room Near B'way</td>\n",
       "      <td>private room</td>\n",
       "      <td>Shunichi</td>\n",
       "      <td>June 24 2019</td>\n",
       "    </tr>\n",
       "    <tr>\n",
       "      <th>4</th>\n",
       "      <td>5238</td>\n",
       "      <td>150 dollars</td>\n",
       "      <td>Manhattan, Chinatown</td>\n",
       "      <td>Cute &amp; Cozy Lower East Side 1 bdrm</td>\n",
       "      <td>Entire home/apt</td>\n",
       "      <td>Ben</td>\n",
       "      <td>June 09 2019</td>\n",
       "    </tr>\n",
       "  </tbody>\n",
       "</table>\n",
       "</div>"
      ],
      "text/plain": [
       "   listing_id        price                nbhood_full  \\\n",
       "0        2595  225 dollars         Manhattan, Midtown   \n",
       "1        3831   89 dollars     Brooklyn, Clinton Hill   \n",
       "2        5099  200 dollars     Manhattan, Murray Hill   \n",
       "3        5178   79 dollars  Manhattan, Hell's Kitchen   \n",
       "4        5238  150 dollars       Manhattan, Chinatown   \n",
       "\n",
       "                                 description        room_type    host_name  \\\n",
       "0                      Skylit Midtown Castle  Entire home/apt     Jennifer   \n",
       "1            Cozy Entire Floor of Brownstone  Entire home/apt  LisaRoxanne   \n",
       "2  Large Cozy 1 BR Apartment In Midtown East  Entire home/apt        Chris   \n",
       "3            Large Furnished Room Near B'way     private room     Shunichi   \n",
       "4         Cute & Cozy Lower East Side 1 bdrm  Entire home/apt          Ben   \n",
       "\n",
       "    last_review  \n",
       "0   May 21 2019  \n",
       "1  July 05 2019  \n",
       "2  June 22 2019  \n",
       "3  June 24 2019  \n",
       "4  June 09 2019  "
      ]
     },
     "execution_count": 4,
     "metadata": {},
     "output_type": "execute_result"
    }
   ],
   "source": [
    "# Merging two DataFrames at a time on a common column\n",
    "\n",
    "merged_df = pd.merge(airbnb_price, airbnb_room_type, on='listing_id', how='left')\n",
    "airbnb = pd.merge(merged_df, airbnb_last_review, on='listing_id', how='left')\n",
    "airbnb.head()"
   ]
  },
  {
   "cell_type": "code",
   "execution_count": 5,
   "id": "8f9c1234-f8ad-4edd-929e-568f5d6724f2",
   "metadata": {},
   "outputs": [
    {
     "name": "stdout",
     "output_type": "stream",
     "text": [
      "<class 'pandas.core.frame.DataFrame'>\n",
      "RangeIndex: 25209 entries, 0 to 25208\n",
      "Data columns (total 7 columns):\n",
      " #   Column       Non-Null Count  Dtype \n",
      "---  ------       --------------  ----- \n",
      " 0   listing_id   25209 non-null  int64 \n",
      " 1   price        25209 non-null  object\n",
      " 2   nbhood_full  25209 non-null  object\n",
      " 3   description  25199 non-null  object\n",
      " 4   room_type    25209 non-null  object\n",
      " 5   host_name    25201 non-null  object\n",
      " 6   last_review  25209 non-null  object\n",
      "dtypes: int64(1), object(6)\n",
      "memory usage: 1.3+ MB\n",
      "None\n"
     ]
    }
   ],
   "source": [
    "# Explore data types of the airbnb DataFrame.\n",
    "print(airbnb.info())"
   ]
  },
  {
   "cell_type": "markdown",
   "id": "91ecca62-726b-4d1a-adfd-aa98dd775f9f",
   "metadata": {},
   "source": [
    "## Cleaning Data\n",
    "\n",
    "I. Extract the first part of strings in the `'price'` column and save it in a new column named `'price_dollars'`.\n",
    "\n",
    "II. Split `'nbhood_full'` and save the first part in a new column named `'borough'`.\n",
    "\n",
    "III. Check `'room_type'` and convert all entries to lowercase.\n",
    "\n",
    "IV. Use the pandas `.to_datetime()` method to convert the 'last_review' column to datetime."
   ]
  },
  {
   "cell_type": "code",
   "execution_count": 6,
   "id": "21a0e575-e1b8-47d2-8ff2-66d692e13490",
   "metadata": {},
   "outputs": [
    {
     "data": {
      "text/html": [
       "<div>\n",
       "<style scoped>\n",
       "    .dataframe tbody tr th:only-of-type {\n",
       "        vertical-align: middle;\n",
       "    }\n",
       "\n",
       "    .dataframe tbody tr th {\n",
       "        vertical-align: top;\n",
       "    }\n",
       "\n",
       "    .dataframe thead th {\n",
       "        text-align: right;\n",
       "    }\n",
       "</style>\n",
       "<table border=\"1\" class=\"dataframe\">\n",
       "  <thead>\n",
       "    <tr style=\"text-align: right;\">\n",
       "      <th></th>\n",
       "      <th>listing_id</th>\n",
       "      <th>price</th>\n",
       "      <th>nbhood_full</th>\n",
       "      <th>description</th>\n",
       "      <th>room_type</th>\n",
       "      <th>host_name</th>\n",
       "      <th>last_review</th>\n",
       "      <th>price_dollars</th>\n",
       "      <th>borough</th>\n",
       "    </tr>\n",
       "  </thead>\n",
       "  <tbody>\n",
       "    <tr>\n",
       "      <th>0</th>\n",
       "      <td>2595</td>\n",
       "      <td>225 dollars</td>\n",
       "      <td>Manhattan, Midtown</td>\n",
       "      <td>Skylit Midtown Castle</td>\n",
       "      <td>Entire Home/Apt</td>\n",
       "      <td>Jennifer</td>\n",
       "      <td>2019-05-21</td>\n",
       "      <td>225.0</td>\n",
       "      <td>Manhattan</td>\n",
       "    </tr>\n",
       "    <tr>\n",
       "      <th>1</th>\n",
       "      <td>3831</td>\n",
       "      <td>89 dollars</td>\n",
       "      <td>Brooklyn, Clinton Hill</td>\n",
       "      <td>Cozy Entire Floor of Brownstone</td>\n",
       "      <td>Entire Home/Apt</td>\n",
       "      <td>LisaRoxanne</td>\n",
       "      <td>2019-07-05</td>\n",
       "      <td>89.0</td>\n",
       "      <td>Brooklyn</td>\n",
       "    </tr>\n",
       "    <tr>\n",
       "      <th>2</th>\n",
       "      <td>5099</td>\n",
       "      <td>200 dollars</td>\n",
       "      <td>Manhattan, Murray Hill</td>\n",
       "      <td>Large Cozy 1 BR Apartment In Midtown East</td>\n",
       "      <td>Entire Home/Apt</td>\n",
       "      <td>Chris</td>\n",
       "      <td>2019-06-22</td>\n",
       "      <td>200.0</td>\n",
       "      <td>Manhattan</td>\n",
       "    </tr>\n",
       "    <tr>\n",
       "      <th>3</th>\n",
       "      <td>5178</td>\n",
       "      <td>79 dollars</td>\n",
       "      <td>Manhattan, Hell's Kitchen</td>\n",
       "      <td>Large Furnished Room Near B'way</td>\n",
       "      <td>Private Room</td>\n",
       "      <td>Shunichi</td>\n",
       "      <td>2019-06-24</td>\n",
       "      <td>79.0</td>\n",
       "      <td>Manhattan</td>\n",
       "    </tr>\n",
       "    <tr>\n",
       "      <th>4</th>\n",
       "      <td>5238</td>\n",
       "      <td>150 dollars</td>\n",
       "      <td>Manhattan, Chinatown</td>\n",
       "      <td>Cute &amp; Cozy Lower East Side 1 bdrm</td>\n",
       "      <td>Entire Home/Apt</td>\n",
       "      <td>Ben</td>\n",
       "      <td>2019-06-09</td>\n",
       "      <td>150.0</td>\n",
       "      <td>Manhattan</td>\n",
       "    </tr>\n",
       "  </tbody>\n",
       "</table>\n",
       "</div>"
      ],
      "text/plain": [
       "   listing_id        price                nbhood_full  \\\n",
       "0        2595  225 dollars         Manhattan, Midtown   \n",
       "1        3831   89 dollars     Brooklyn, Clinton Hill   \n",
       "2        5099  200 dollars     Manhattan, Murray Hill   \n",
       "3        5178   79 dollars  Manhattan, Hell's Kitchen   \n",
       "4        5238  150 dollars       Manhattan, Chinatown   \n",
       "\n",
       "                                 description        room_type    host_name  \\\n",
       "0                      Skylit Midtown Castle  Entire Home/Apt     Jennifer   \n",
       "1            Cozy Entire Floor of Brownstone  Entire Home/Apt  LisaRoxanne   \n",
       "2  Large Cozy 1 BR Apartment In Midtown East  Entire Home/Apt        Chris   \n",
       "3            Large Furnished Room Near B'way     Private Room     Shunichi   \n",
       "4         Cute & Cozy Lower East Side 1 bdrm  Entire Home/Apt          Ben   \n",
       "\n",
       "  last_review  price_dollars    borough  \n",
       "0  2019-05-21          225.0  Manhattan  \n",
       "1  2019-07-05           89.0   Brooklyn  \n",
       "2  2019-06-22          200.0  Manhattan  \n",
       "3  2019-06-24           79.0  Manhattan  \n",
       "4  2019-06-09          150.0  Manhattan  "
      ]
     },
     "execution_count": 6,
     "metadata": {},
     "output_type": "execute_result"
    }
   ],
   "source": [
    "# Extract fisrt part of strings in 'price' column and save it in new column 'price_dollars'\n",
    "airbnb['price_dollars'] = airbnb['price'].str.replace('[^\\d.]', '', regex=True).astype(float)\n",
    "\n",
    "# Alternative way: use --> airbnb['price_dollars'] = airbnb['price'].str.split().str[0].astype(float)\n",
    "\n",
    "# This code splits each element in the 'nbhood_full' column by commas, extracts the first part, and then applies the lower().title() transformations \n",
    "# to each element using the apply method.\n",
    "airbnb['borough'] = airbnb['nbhood_full'].str.split(',').str[0].apply(lambda x: x.lower().title())\n",
    "\n",
    "# Lower and then title each element of room_type column\n",
    "airbnb['room_type'] = airbnb['room_type'].str.lower().apply(lambda x: x.title())\n",
    "\n",
    "# Convert elements of last_review column to datetime\n",
    "airbnb['last_review'] = pd.to_datetime(airbnb['last_review'])\n",
    "\n",
    "airbnb.head()"
   ]
  },
  {
   "cell_type": "markdown",
   "id": "905e42a9-74b5-430a-ab0f-eef20664f553",
   "metadata": {},
   "source": [
    "## EDA (Exploratory Data Analysis)"
   ]
  },
  {
   "cell_type": "code",
   "execution_count": 7,
   "id": "9718c93f-0ee3-447f-9141-9a8853e9552d",
   "metadata": {},
   "outputs": [
    {
     "name": "stdout",
     "output_type": "stream",
     "text": [
      "2019-01-01\n",
      "2019-07-09\n"
     ]
    }
   ],
   "source": [
    "# Finding the earliest and most recent dates\n",
    "print(airbnb['last_review'].min().date())\n",
    "print(airbnb['last_review'].max().date())"
   ]
  },
  {
   "cell_type": "code",
   "execution_count": 8,
   "id": "9cf75261-8003-4be2-a006-274edbe51c53",
   "metadata": {},
   "outputs": [
    {
     "name": "stdout",
     "output_type": "stream",
     "text": [
      "room_type\n",
      "Entire Home/Apt    13266\n",
      "Private Room       11356\n",
      "Shared Room          587\n",
      "Name: count, dtype: int64 \n",
      "\n"
     ]
    },
    {
     "data": {
      "text/plain": [
       "11356"
      ]
     },
     "execution_count": 8,
     "metadata": {},
     "output_type": "execute_result"
    }
   ],
   "source": [
    "# Finding how many listings are private rooms\n",
    "print(airbnb['room_type'].value_counts(), '\\n')\n",
    "\n",
    "airbnb['room_type'].value_counts().iloc[1]"
   ]
  },
  {
   "cell_type": "code",
   "execution_count": 9,
   "id": "ba65a932-f47a-47d3-8e01-bd27950b7182",
   "metadata": {},
   "outputs": [],
   "source": [
    "# Loading the solution data into a DataFrame\n",
    "# Pass a dictionary into the pd.DataFrame() constructor specifying the desired column names \n",
    "# (first_reviewed, last_reviewed, nb_private_rooms, and avg_price) as keys, and your saved variables as values.\n",
    "\n",
    "airbnb_dict = {'first_reviewed': airbnb['last_review'].min().date(), \n",
    "               'last_reviewed': airbnb['last_review'].max().date(),\n",
    "               'nb_private_rooms': airbnb['room_type'].value_counts().iloc[1],\n",
    "               'avg_price': airbnb['price_dollars'].mean().round(2)}"
   ]
  },
  {
   "cell_type": "code",
   "execution_count": 10,
   "id": "fc80e258-bc69-4e7d-96e1-107649d19043",
   "metadata": {},
   "outputs": [
    {
     "data": {
      "text/html": [
       "<div>\n",
       "<style scoped>\n",
       "    .dataframe tbody tr th:only-of-type {\n",
       "        vertical-align: middle;\n",
       "    }\n",
       "\n",
       "    .dataframe tbody tr th {\n",
       "        vertical-align: top;\n",
       "    }\n",
       "\n",
       "    .dataframe thead th {\n",
       "        text-align: right;\n",
       "    }\n",
       "</style>\n",
       "<table border=\"1\" class=\"dataframe\">\n",
       "  <thead>\n",
       "    <tr style=\"text-align: right;\">\n",
       "      <th></th>\n",
       "      <th>first_reviewed</th>\n",
       "      <th>last_reviewed</th>\n",
       "      <th>nb_private_rooms</th>\n",
       "      <th>avg_price</th>\n",
       "    </tr>\n",
       "  </thead>\n",
       "  <tbody>\n",
       "    <tr>\n",
       "      <th>summary</th>\n",
       "      <td>2019-01-01</td>\n",
       "      <td>2019-07-09</td>\n",
       "      <td>11356</td>\n",
       "      <td>141.78</td>\n",
       "    </tr>\n",
       "  </tbody>\n",
       "</table>\n",
       "</div>"
      ],
      "text/plain": [
       "        first_reviewed last_reviewed  nb_private_rooms  avg_price\n",
       "summary     2019-01-01    2019-07-09             11356     141.78"
      ]
     },
     "execution_count": 10,
     "metadata": {},
     "output_type": "execute_result"
    }
   ],
   "source": [
    "# This summary is very limited and we need more details\n",
    "pd.DataFrame(airbnb_dict, index=['summary'])"
   ]
  },
  {
   "cell_type": "code",
   "execution_count": 11,
   "id": "044162b5-a33b-40d1-b2c4-84f7d642d2e1",
   "metadata": {},
   "outputs": [],
   "source": [
    "# Summary Statistics and Boxplots for each room type"
   ]
  },
  {
   "cell_type": "markdown",
   "id": "180ee3d8-a6eb-4634-8d13-b93cc204602b",
   "metadata": {},
   "source": [
    "## Summary Statistics and Visualization"
   ]
  },
  {
   "cell_type": "code",
   "execution_count": 12,
   "id": "83c6d97f-3577-4b58-be40-cfc780145b9a",
   "metadata": {},
   "outputs": [
    {
     "name": "stdout",
     "output_type": "stream",
     "text": [
      "                                count        mean         std   min     25%  \\\n",
      "borough       room_type                                                       \n",
      "Bronx         Entire Home/Apt   261.0  120.517241   73.566380  35.0   80.00   \n",
      "              Private Room      404.0   56.153465   22.820721   0.0   40.00   \n",
      "              Shared Room        33.0   33.030303   11.555531  20.0   28.00   \n",
      "Brooklyn      Entire Home/Apt  5367.0  169.903671  114.292801  10.0  107.00   \n",
      "              Private Room     4910.0   72.629328  115.075108   0.0   50.00   \n",
      "              Shared Room       189.0   39.005291   24.529942   0.0   27.00   \n",
      "Manhattan     Entire Home/Apt  6170.0  238.024473  204.624347  16.0  145.00   \n",
      "              Private Room     3901.0  105.698795   77.552981  10.0   70.00   \n",
      "              Shared Room       251.0   72.960159   59.883140  25.0   49.00   \n",
      "Queens        Entire Home/Apt  1335.0  140.931086  100.653218  10.0   90.00   \n",
      "              Private Room     2009.0   63.741165   36.333116  22.0   47.00   \n",
      "              Shared Room       112.0   40.767857   19.127350  15.0   30.00   \n",
      "Staten Island Entire Home/Apt   133.0  116.774436   57.708071  49.0   75.00   \n",
      "              Private Room      132.0   56.060606   27.817496  20.0   36.00   \n",
      "              Shared Room         2.0   21.500000   12.020815  13.0   17.25   \n",
      "\n",
      "                                 50%     75%     max  \n",
      "borough       room_type                               \n",
      "Bronx         Entire Home/Apt  100.0  135.00   670.0  \n",
      "              Private Room      50.0   65.00   187.0  \n",
      "              Shared Room       28.0   40.00    60.0  \n",
      "Brooklyn      Entire Home/Apt  145.0  195.00  2500.0  \n",
      "              Private Room      65.0   80.00  7500.0  \n",
      "              Shared Room       35.0   40.00   250.0  \n",
      "Manhattan     Entire Home/Apt  195.0  260.00  5100.0  \n",
      "              Private Room      90.0  120.00  1500.0  \n",
      "              Shared Room       65.0   77.00   800.0  \n",
      "Queens        Entire Home/Apt  120.0  168.50  2600.0  \n",
      "              Private Room      58.0   72.00   900.0  \n",
      "              Shared Room       35.0   45.00   120.0  \n",
      "Staten Island Entire Home/Apt  100.0  135.00   300.0  \n",
      "              Private Room      50.0   65.00   235.0  \n",
      "              Shared Room       21.5   25.75    30.0  \n"
     ]
    }
   ],
   "source": [
    "# Summary statistics for each room type in each borough\n",
    "summary_statistics = airbnb.groupby(['borough', 'room_type'])['price_dollars'].describe()\n",
    "\n",
    "# Print summary statistics\n",
    "print(summary_statistics)"
   ]
  },
  {
   "cell_type": "code",
   "execution_count": 13,
   "id": "2a2d2536-58be-44fe-bc5c-1892136e7e58",
   "metadata": {},
   "outputs": [
    {
     "name": "stdout",
     "output_type": "stream",
     "text": [
      "7\n",
      "0.027767860684676106 %\n"
     ]
    }
   ],
   "source": [
    "# Check how many price elements are equal to zero.\n",
    "x = airbnb[airbnb['price_dollars']==0]['price_dollars'].count()\n",
    "y = airbnb['price_dollars'].count()\n",
    "print(x)\n",
    "print((x/y)*100, '%')"
   ]
  },
  {
   "cell_type": "code",
   "execution_count": 14,
   "id": "0ea8f8de-e271-4dce-b117-c66c4a6d1f3c",
   "metadata": {},
   "outputs": [],
   "source": [
    "# It's much less than 5 percent, so we can safely remove these rows\n",
    "airbnb = airbnb[airbnb['price_dollars'] != 0]"
   ]
  },
  {
   "cell_type": "code",
   "execution_count": 15,
   "id": "8aba0bd4-6249-48d2-b1b0-b5057c9960d5",
   "metadata": {},
   "outputs": [
    {
     "data": {
      "image/png": "[encoded data removed]",
      "text/plain": [
       "<Figure size 1400x800 with 1 Axes>"
      ]
     },
     "metadata": {},
     "output_type": "display_data"
    }
   ],
   "source": [
    "# Boxplots of price for each room type and borough\n",
    "plt.figure(figsize=(14, 8))\n",
    "sns.set(style=\"whitegrid\", palette=\"colorblind\")\n",
    "\n",
    "sns.boxplot(x='room_type', y='price_dollars', hue='borough', data=airbnb, showfliers=False)\n",
    "\n",
    "plt.title('Boxplots of Price for Each Room Type and Borough')\n",
    "plt.xlabel('Room Type')\n",
    "plt.ylabel('Price (in dollars)')\n",
    "plt.legend(title='Borough', bbox_to_anchor=(1.05, 1), loc='upper left')\n",
    "plt.show()"
   ]
  },
  {
   "cell_type": "code",
   "execution_count": null,
   "id": "09337f66-f754-405a-97a7-84eb6bb45fef",
   "metadata": {},
   "outputs": [],
   "source": []
  }
 ],
 "metadata": {
  "colab": {
   "name": "Welcome to DataCamp Workspaces.ipynb",
   "provenance": []
  },
  "kernelspec": {
   "display_name": "Python 3 (ipykernel)",
   "language": "python",
   "name": "python3"
  },
  "language_info": {
   "codemirror_mode": {
    "name": "ipython",
    "version": 3
   },
   "file_extension": ".py",
   "mimetype": "text/x-python",
   "name": "python",
   "nbconvert_exporter": "python",
   "pygments_lexer": "ipython3",
   "version": "3.10.10"
  }
 },
 "nbformat": 4,
 "nbformat_minor": 5
}
